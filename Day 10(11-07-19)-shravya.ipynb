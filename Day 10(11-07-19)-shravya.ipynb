{
 "cells": [
  {
   "cell_type": "markdown",
   "metadata": {},
   "source": [
    "### Standard Libraries\n",
    "- file I/O\n",
    "- Regular expression\n",
    "- Data time\n",
    "- Math (numerical and mathematics)"
   ]
  },
  {
   "cell_type": "markdown",
   "metadata": {},
   "source": [
    "### File Handling in python\n",
    "- File: Document containing information resides on the permanant storage\n",
    "- Different datatypes of files: txt,doc,pdf,csvandetc...\n",
    "- Input -- keyboard\n",
    "- Output -- file\n",
    "### Modes of file I/O\n",
    "- 'w'-this mode is used to do file writing\n",
    "- If the file  is not present first it creates file and write to me data to it \n",
    "- If the file is alrady present then it will rewrite previous file content"
   ]
  },
  {
   "cell_type": "code",
   "execution_count": 1,
   "metadata": {},
   "outputs": [
    {
     "name": "stdout",
     "output_type": "stream",
     "text": [
      "file is created and data has written\n"
     ]
    }
   ],
   "source": [
    "# Function to create a file and write to file\n",
    "def createfile(filename):\n",
    "    f=open(filename,'w')\n",
    "    for i in range(10):\n",
    "        f.write('this is %d line\\n' % i)\n",
    "        print(\"file is created and data has written\")\n",
    "        return\n",
    "createfile('file1.txt')"
   ]
  },
  {
   "cell_type": "code",
   "execution_count": 2,
   "metadata": {},
   "outputs": [
    {
     "name": "stdout",
     "output_type": "stream",
     "text": [
      "file is created and data has written\n"
     ]
    }
   ],
   "source": [
    "def createfilename(filename):\n",
    "    f=open(filename,'w')\n",
    "    f.write('Testing...\\n')\n",
    "    print(\"file is created and data has written\")\n",
    "    return\n",
    "createfile('file1.txt')"
   ]
  },
  {
   "cell_type": "code",
   "execution_count": 3,
   "metadata": {},
   "outputs": [
    {
     "name": "stdout",
     "output_type": "stream",
     "text": [
      "file is created and succesfullydata has written\n"
     ]
    }
   ],
   "source": [
    "def appendData(filename):\n",
    "    f = open(filename,'a')\n",
    "    f.write(\"New line 1 \\n\")\n",
    "    f.write(\"New line 2 \\n\")\n",
    "    print(\"file is created and succesfullydata has written\")\n",
    "    return\n",
    "appendData('File1.txt')\n",
    "        \n",
    "        \n",
    "        \n",
    "    "
   ]
  },
  {
   "cell_type": "code",
   "execution_count": null,
   "metadata": {},
   "outputs": [
    {
     "name": "stdout",
     "output_type": "stream",
     "text": [
      "New line 1 \n",
      "New line 2 \n",
      "New line 1 \n",
      "New line 2 \n",
      "New line 1 \n",
      "New line 2 \n",
      "Data to fileData to fileData to file\n"
     ]
    }
   ],
   "source": [
    "# Function to read file data\n",
    "def readfileData(filename):\n",
    "    f=open(filename,'r')\n",
    "    if f.mode == 'r':\n",
    "        x= f.read()\n",
    "        print(x)\n",
    "    f.close()\n",
    "    return\n",
    "readfileData('file2.txt')\n",
    "    "
   ]
  },
  {
   "cell_type": "code",
   "execution_count": null,
   "metadata": {},
   "outputs": [],
   "source": [
    "# Function to read file\n",
    "def readfile2(filename,mode):\n",
    "     with open(filename,mode) as f:\n",
    "        if f.mode == 'r':\n",
    "            data=f.read()\n",
    "            print(data)\n",
    "        elif f.mode == 'a':\n",
    "            f.write('Data to file')\n",
    "            print(\"file is created and succesfullydata has written\")\n",
    "        f.close()\n",
    "        return\n",
    "filename = input('enter file name')\n",
    "mode = input('Enter mode of file')\n",
    "readfile2(filename,mode)\n",
    "            "
   ]
  },
  {
   "cell_type": "code",
   "execution_count": null,
   "metadata": {
    "collapsed": true
   },
   "outputs": [],
   "source": [
    "# Data Analasys\n",
    "# Wordcount\n",
    "def Wordcount(filename,word):\n",
    "    with open(filename,'r') as f:\n",
    "        if f.mode =='r':\n",
    "            x=f.read()\n",
    "            li=x.split() \n",
    "        count=li.count(word)\n",
    "        return count\n",
    "filename=input('Enter file name: ')\n",
    "Wordcount =input('enter word: ')\n",
    "Wordcount =input('filename,word')\n"
   ]
  },
  {
   "cell_type": "markdown",
   "metadata": {},
   "source": [
    "http://localhost:8888/notebooks/Day%2010(11-07-19)-shravya.ipynb#"
   ]
  },
  {
   "cell_type": "code",
   "execution_count": null,
   "metadata": {
    "collapsed": true
   },
   "outputs": [],
   "source": [
    "# character count from given file\n",
    "def charcount(filename):\n",
    "    with open(filename,'r') as f:\n",
    "        if f.mode =='r':\n",
    "            x=f.read()\n",
    "            li=list(x) \n",
    "        return len(li)\n",
    "filename=input('Enter file name: ')\n",
    "charcount (filename)"
   ]
  },
  {
   "cell_type": "code",
   "execution_count": 4,
   "metadata": {},
   "outputs": [
    {
     "data": {
      "text/plain": [
       "5"
      ]
     },
     "execution_count": 4,
     "metadata": {},
     "output_type": "execute_result"
    }
   ],
   "source": [
    "def test(li):\n",
    "    return li[-2]\n",
    "li=[1,9,2,6,5,2]\n",
    "test(li)\n",
    "    "
   ]
  },
  {
   "cell_type": "code",
   "execution_count": null,
   "metadata": {
    "collapsed": true
   },
   "outputs": [],
   "source": [
    "# character count from given file\n",
    "def wordcount(filename):\n",
    "    with open(filename,'r') as f:\n",
    "        if f.mode =='r':\n",
    "            x=f.read()\n",
    "            li=list(x) \n",
    "        return len(li)\n",
    "filename=input('Enter file name: ')\n",
    "wordcount (filename)"
   ]
  },
  {
   "cell_type": "code",
   "execution_count": 2,
   "metadata": {},
   "outputs": [
    {
     "ename": "IndentationError",
     "evalue": "unindent does not match any outer indentation level (<tokenize>, line 9)",
     "output_type": "error",
     "traceback": [
      "\u001b[1;36m  File \u001b[1;32m\"<tokenize>\"\u001b[1;36m, line \u001b[1;32m9\u001b[0m\n\u001b[1;33m    return len(li)\u001b[0m\n\u001b[1;37m    ^\u001b[0m\n\u001b[1;31mIndentationError\u001b[0m\u001b[1;31m:\u001b[0m unindent does not match any outer indentation level\n"
     ]
    }
   ],
   "source": [
    "# Function to find no of in input\n",
    "# Input : filename(file2.txt)\n",
    "# output : no. of lines (12)\n",
    "def linecount(filename):\n",
    "     with open(filename,'r') as f:\n",
    "        if f.mode =='r':\n",
    "            x=f.read()\n",
    "            li = x.split(\"\\n\")\n",
    "    return len(li)\n",
    "filename input('Enter file name: ')\n",
    "linecount(filename)    "
   ]
  },
  {
   "cell_type": "code",
   "execution_count": null,
   "metadata": {
    "collapsed": true
   },
   "outputs": [],
   "source": [
    "def casecount(filename):\n",
    "     with open(filename,'r') as f:\n",
    "        if f.mode =='r':\n",
    "            x=f.read()\n",
    "            li = list(x)\n",
    "        for i in li:\n",
    "            if i. isupper():\n",
    "                cntupper += 1\n",
    "            elif i. islower():\n",
    "                cntlower += 1\n",
    "        output = 'uppercase ={0}, lowercase={1}'.format(cntupper,cntlower)\n",
    "        return output\n",
    "filename=input('Enter filename : ')\n",
    "casecount(filename)"
   ]
  },
  {
   "cell_type": "markdown",
   "metadata": {
    "collapsed": true
   },
   "source": [
    "### Random,Math,OS\n",
    ". os package it contains methods which workout"
   ]
  },
  {
   "cell_type": "code",
   "execution_count": 1,
   "metadata": {},
   "outputs": [
    {
     "ename": "NameError",
     "evalue": "name 'dirpath' is not defined",
     "output_type": "error",
     "traceback": [
      "\u001b[1;31m---------------------------------------------------------------------------\u001b[0m",
      "\u001b[1;31mNameError\u001b[0m                                 Traceback (most recent call last)",
      "\u001b[1;32m<ipython-input-1-a13754f14ccd>\u001b[0m in \u001b[0;36m<module>\u001b[1;34m()\u001b[0m\n\u001b[0;32m      1\u001b[0m \u001b[1;32mimport\u001b[0m \u001b[0mos\u001b[0m\u001b[1;33m\u001b[0m\u001b[0m\n\u001b[0;32m      2\u001b[0m \u001b[0mdirtpath\u001b[0m\u001b[1;33m=\u001b[0m\u001b[1;34m\"GIT/\"\u001b[0m\u001b[1;33m\u001b[0m\u001b[0m\n\u001b[1;32m----> 3\u001b[1;33m \u001b[1;32mfor\u001b[0m \u001b[0mi\u001b[0m \u001b[1;32min\u001b[0m \u001b[0mos\u001b[0m\u001b[1;33m.\u001b[0m\u001b[0mlistdir\u001b[0m\u001b[1;33m(\u001b[0m\u001b[0mdirpath\u001b[0m\u001b[1;33m)\u001b[0m\u001b[1;33m:\u001b[0m\u001b[1;33m\u001b[0m\u001b[0m\n\u001b[0m\u001b[0;32m      4\u001b[0m     \u001b[1;32mif\u001b[0m \u001b[0mos\u001b[0m\u001b[1;33m.\u001b[0m\u001b[0mpath\u001b[0m\u001b[1;33m.\u001b[0m\u001b[0misfile\u001b[0m\u001b[1;33m(\u001b[0m\u001b[0mos\u001b[0m\u001b[1;33m.\u001b[0m\u001b[0mpath\u001b[0m\u001b[1;33m.\u001b[0m\u001b[0mjoin\u001b[0m\u001b[1;33m(\u001b[0m\u001b[0mdirpath\u001b[0m\u001b[1;33m,\u001b[0m\u001b[0mi\u001b[0m\u001b[1;33m)\u001b[0m\u001b[1;33m)\u001b[0m\u001b[1;33m:\u001b[0m\u001b[1;33m\u001b[0m\u001b[0m\n\u001b[0;32m      5\u001b[0m         \u001b[0mprint\u001b[0m\u001b[1;33m(\u001b[0m\u001b[0mi\u001b[0m\u001b[1;33m)\u001b[0m\u001b[1;33m\u001b[0m\u001b[0m\n",
      "\u001b[1;31mNameError\u001b[0m: name 'dirpath' is not defined"
     ]
    }
   ],
   "source": [
    "import os\n",
    "dirtpath=\"GIT/\"\n",
    "for i in os.listdir(dirpath):\n",
    "    if os.path.isfile(os.path.join(dirpath,i)):\n",
    "        print(i)"
   ]
  },
  {
   "cell_type": "code",
   "execution_count": 8,
   "metadata": {},
   "outputs": [
    {
     "name": "stdout",
     "output_type": "stream",
     "text": [
      "C:\\Users\\STUDENT\\python\n"
     ]
    }
   ],
   "source": [
    "cd python"
   ]
  },
  {
   "cell_type": "code",
   "execution_count": 2,
   "metadata": {},
   "outputs": [
    {
     "data": {
      "text/plain": [
       "'C:\\\\Users\\\\STUDENT'"
      ]
     },
     "execution_count": 2,
     "metadata": {},
     "output_type": "execute_result"
    }
   ],
   "source": [
    "pwd"
   ]
  },
  {
   "cell_type": "markdown",
   "metadata": {},
   "source": [
    "### "
   ]
  },
  {
   "cell_type": "code",
   "execution_count": null,
   "metadata": {
    "collapsed": true
   },
   "outputs": [],
   "source": [
    "import os\n",
    "dirtpath=\"GIT/\"\n",
    "for i in os.listdir(dirpath):\n",
    "    if os.path.isfile(os.path.join(dirpath,i)):\n",
    "        print(i)"
   ]
  },
  {
   "cell_type": "code",
   "execution_count": null,
   "metadata": {
    "collapsed": true
   },
   "outputs": [],
   "source": [
    "frompathlib import path\n",
    "dirpath = path('Git/')\n",
    "for i in dirpath..iterdir():\n",
    "    print(i.name)\n",
    "    "
   ]
  },
  {
   "cell_type": "code",
   "execution_count": null,
   "metadata": {
    "collapsed": true
   },
   "outputs": [],
   "source": [
    "dirpath = 'Git/'\n",
    "with os.scandir(dirpath) as f:\n",
    "    for i in f:\n",
    "        print(i.name)"
   ]
  },
  {
   "cell_type": "markdown",
   "metadata": {},
   "source": [
    "### Creating a single directory"
   ]
  },
  {
   "cell_type": "code",
   "execution_count": 1,
   "metadata": {},
   "outputs": [
    {
     "ename": "FileExistsError",
     "evalue": "[WinError 183] Cannot create a file when that file already exists: '2019/july/11'",
     "output_type": "error",
     "traceback": [
      "\u001b[1;31m---------------------------------------------------------------------------\u001b[0m",
      "\u001b[1;31mFileExistsError\u001b[0m                           Traceback (most recent call last)",
      "\u001b[1;32m<ipython-input-1-7d642b3c86df>\u001b[0m in \u001b[0;36m<module>\u001b[1;34m()\u001b[0m\n\u001b[0;32m      1\u001b[0m \u001b[1;32mimport\u001b[0m \u001b[0mos\u001b[0m\u001b[1;33m\u001b[0m\u001b[0m\n\u001b[1;32m----> 2\u001b[1;33m \u001b[0mos\u001b[0m\u001b[1;33m.\u001b[0m\u001b[0mmakedirs\u001b[0m\u001b[1;33m(\u001b[0m\u001b[1;34m'2019/july/11'\u001b[0m\u001b[1;33m)\u001b[0m\u001b[1;33m\u001b[0m\u001b[0m\n\u001b[0m",
      "\u001b[1;32mC:\\ProgramData\\anaconda1\\lib\\os.py\u001b[0m in \u001b[0;36mmakedirs\u001b[1;34m(name, mode, exist_ok)\u001b[0m\n\u001b[0;32m    218\u001b[0m             \u001b[1;32mreturn\u001b[0m\u001b[1;33m\u001b[0m\u001b[0m\n\u001b[0;32m    219\u001b[0m     \u001b[1;32mtry\u001b[0m\u001b[1;33m:\u001b[0m\u001b[1;33m\u001b[0m\u001b[0m\n\u001b[1;32m--> 220\u001b[1;33m         \u001b[0mmkdir\u001b[0m\u001b[1;33m(\u001b[0m\u001b[0mname\u001b[0m\u001b[1;33m,\u001b[0m \u001b[0mmode\u001b[0m\u001b[1;33m)\u001b[0m\u001b[1;33m\u001b[0m\u001b[0m\n\u001b[0m\u001b[0;32m    221\u001b[0m     \u001b[1;32mexcept\u001b[0m \u001b[0mOSError\u001b[0m\u001b[1;33m:\u001b[0m\u001b[1;33m\u001b[0m\u001b[0m\n\u001b[0;32m    222\u001b[0m         \u001b[1;31m# Cannot rely on checking for EEXIST, since the operating system\u001b[0m\u001b[1;33m\u001b[0m\u001b[1;33m\u001b[0m\u001b[0m\n",
      "\u001b[1;31mFileExistsError\u001b[0m: [WinError 183] Cannot create a file when that file already exists: '2019/july/11'"
     ]
    }
   ],
   "source": [
    "import os\n",
    "os.makedirs('2019/july/11')\n"
   ]
  },
  {
   "cell_type": "code",
   "execution_count": null,
   "metadata": {
    "collapsed": true
   },
   "outputs": [],
   "source": [
    "import pathlib\n",
    "p=pathlib.Path('testfolder')\n",
    "p.mkdir"
   ]
  },
  {
   "cell_type": "code",
   "execution_count": 8,
   "metadata": {},
   "outputs": [
    {
     "name": "stdout",
     "output_type": "stream",
     "text": [
      " Volume in drive C has no label.\n",
      " Volume Serial Number is 8AB7-CC32\n",
      "\n",
      " Directory of C:\\Users\\STUDENT\n",
      "\n",
      "11-07-2019  14:55    <DIR>          .\n",
      "11-07-2019  14:55    <DIR>          ..\n",
      "21-06-2019  14:11    <DIR>          .anaconda\n",
      "25-06-2019  16:27               598 .bash_history\n",
      "24-06-2019  16:42    <DIR>          .conda\n",
      "29-06-2019  09:22                43 .condarc\n",
      "25-06-2019  17:23    <DIR>          .idlerc\n",
      "11-07-2019  09:15    <DIR>          .ipynb_checkpoints\n",
      "21-06-2019  14:14    <DIR>          .ipython\n",
      "28-06-2019  14:15    <DIR>          .jupyter\n",
      "28-06-2019  16:03    <DIR>          .matplotlib\n",
      "08-06-2019  14:26    <DIR>          .oracle_jre_usage\n",
      "10-07-2019  17:03            19,737 10 July 2019 -shravya.ipynb\n",
      "19-06-2019  12:46    <DIR>          221810301053\n",
      "10-07-2019  17:10             4,792 ASSIGNMENT 10-7-19.ipynb\n",
      "08-06-2019  11:10    <DIR>          Contacts\n",
      "11-07-2019  14:55            12,775 Day 10(11-07-19)-shravya.ipynb\n",
      "11-07-2019  10:54    <DIR>          Desktop\n",
      "01-07-2019  12:43    <DIR>          Documents\n",
      "05-07-2019  14:32    <DIR>          Downloads\n",
      "08-06-2019  11:10    <DIR>          Favorites\n",
      "11-07-2019  14:22                42 file1.txt\n",
      "11-07-2019  10:49               114 File2.txt\n",
      "11-07-2019  14:25    <DIR>          Git\n",
      "19-06-2019  12:54    <DIR>          gitam-june-2019\n",
      "08-06-2019  11:10    <DIR>          Links\n",
      "08-06-2019  11:10    <DIR>          Music\n",
      "08-06-2019  11:10    <DIR>          Pictures\n",
      "11-07-2019  14:25    <DIR>          python\n",
      "09-07-2019  17:10           791,822 Python Shravya (9-7-19).ipynb\n",
      "11-07-2019  14:25    <DIR>          pythonGit\n",
      "08-06-2019  11:10    <DIR>          Saved Games\n",
      "18-06-2019  12:37    <DIR>          Searches\n",
      "11-07-2019  14:53    <DIR>          singledirectory\n",
      "21-06-2019  15:22               581 Untitled.ipynb\n",
      "06-07-2019  10:00               825 Untitled1.ipynb\n",
      "06-07-2019  10:54             1,816 Untitled2.ipynb\n",
      "06-07-2019  10:51               608 Untitled3.ipynb\n",
      "08-07-2019  10:52             2,106 Untitled4.ipynb\n",
      "09-07-2019  12:20             1,060 Untitled5.ipynb\n",
      "25-06-2019  17:21               581 vedword(25-06-19 _2).ipynb\n",
      "08-06-2019  11:10    <DIR>          Videos\n",
      "              15 File(s)        837,500 bytes\n",
      "              27 Dir(s)  69,577,396,224 bytes free\n"
     ]
    }
   ],
   "source": [
    "ls\n"
   ]
  },
  {
   "cell_type": "markdown",
   "metadata": {},
   "source": [
    "###  Creating Multiple Directories"
   ]
  },
  {
   "cell_type": "code",
   "execution_count": 2,
   "metadata": {},
   "outputs": [
    {
     "data": {
      "text/plain": [
       "<bound method Path.mkdir of WindowsPath('TestFolder')>"
      ]
     },
     "execution_count": 2,
     "metadata": {},
     "output_type": "execute_result"
    }
   ],
   "source": [
    "import pathlib\n",
    "p= pathlib.Path('TestFolder')\n",
    "p.mkdir"
   ]
  },
  {
   "cell_type": "code",
   "execution_count": 10,
   "metadata": {},
   "outputs": [
    {
     "name": "stdout",
     "output_type": "stream",
     "text": [
      " Volume in drive C has no label.\n",
      " Volume Serial Number is 8AB7-CC32\n",
      "\n",
      " Directory of C:\\Users\\STUDENT\n",
      "\n",
      "11-07-2019  15:00    <DIR>          .\n",
      "11-07-2019  15:00    <DIR>          ..\n",
      "21-06-2019  14:11    <DIR>          .anaconda\n",
      "25-06-2019  16:27               598 .bash_history\n",
      "24-06-2019  16:42    <DIR>          .conda\n",
      "29-06-2019  09:22                43 .condarc\n",
      "25-06-2019  17:23    <DIR>          .idlerc\n",
      "11-07-2019  09:15    <DIR>          .ipynb_checkpoints\n",
      "21-06-2019  14:14    <DIR>          .ipython\n",
      "28-06-2019  14:15    <DIR>          .jupyter\n",
      "28-06-2019  16:03    <DIR>          .matplotlib\n",
      "08-06-2019  14:26    <DIR>          .oracle_jre_usage\n",
      "10-07-2019  17:03            19,737 10 July 2019 -shravya.ipynb\n",
      "19-06-2019  12:46    <DIR>          221810301053\n",
      "10-07-2019  17:10             4,792 ASSIGNMENT 10-7-19.ipynb\n",
      "08-06-2019  11:10    <DIR>          Contacts\n",
      "11-07-2019  15:00            15,903 Day 10(11-07-19)-shravya.ipynb\n",
      "11-07-2019  10:54    <DIR>          Desktop\n",
      "01-07-2019  12:43    <DIR>          Documents\n",
      "05-07-2019  14:32    <DIR>          Downloads\n",
      "08-06-2019  11:10    <DIR>          Favorites\n",
      "11-07-2019  14:22                42 file1.txt\n",
      "11-07-2019  10:49               114 File2.txt\n",
      "11-07-2019  14:25    <DIR>          Git\n",
      "19-06-2019  12:54    <DIR>          gitam-june-2019\n",
      "08-06-2019  11:10    <DIR>          Links\n",
      "08-06-2019  11:10    <DIR>          Music\n",
      "08-06-2019  11:10    <DIR>          Pictures\n",
      "11-07-2019  14:25    <DIR>          python\n",
      "09-07-2019  17:10           791,822 Python Shravya (9-7-19).ipynb\n",
      "11-07-2019  14:25    <DIR>          pythonGit\n",
      "08-06-2019  11:10    <DIR>          Saved Games\n",
      "18-06-2019  12:37    <DIR>          Searches\n",
      "11-07-2019  14:53    <DIR>          singledirectory\n",
      "21-06-2019  15:22               581 Untitled.ipynb\n",
      "06-07-2019  10:00               825 Untitled1.ipynb\n",
      "06-07-2019  10:54             1,816 Untitled2.ipynb\n",
      "06-07-2019  10:51               608 Untitled3.ipynb\n",
      "08-07-2019  10:52             2,106 Untitled4.ipynb\n",
      "09-07-2019  12:20             1,060 Untitled5.ipynb\n",
      "25-06-2019  17:21               581 vedword(25-06-19 _2).ipynb\n",
      "08-06-2019  11:10    <DIR>          Videos\n",
      "              15 File(s)        840,628 bytes\n",
      "              27 Dir(s)  69,577,326,592 bytes free\n"
     ]
    }
   ],
   "source": [
    "ls"
   ]
  },
  {
   "cell_type": "code",
   "execution_count": 1,
   "metadata": {},
   "outputs": [
    {
     "name": "stdout",
     "output_type": "stream",
     "text": [
      "C:\\Users\\STUDENT\\Git\n"
     ]
    }
   ],
   "source": [
    "cd Git"
   ]
  },
  {
   "cell_type": "code",
   "execution_count": null,
   "metadata": {
    "collapsed": true
   },
   "outputs": [],
   "source": [
    "import os\n",
    "dir path = 'Git/'\n",
    "for f_name in os.listdir(dirpath):\n",
    "    if f_name,endswith('ipynb'):\n",
    "        print(f_name)"
   ]
  },
  {
   "cell_type": "markdown",
   "metadata": {},
   "source": [
    "### Deleting files"
   ]
  },
  {
   "cell_type": "markdown",
   "metadata": {},
   "source": [
    "### Regular Expressions\n",
    "- used to specisic pattern matching\n",
    "- Symbolic notations of pattern\n",
    "- patteren (RE)  represnts set of values\n"
   ]
  },
  {
   "cell_type": "markdown",
   "metadata": {},
   "source": [
    "### EMAIL  id: Username@Domainna\n",
    "### Indian Mobile No :  +91 XXXXXXXXXX"
   ]
  },
  {
   "cell_type": "code",
   "execution_count": null,
   "metadata": {
    "collapsed": true
   },
   "outputs": [],
   "source": []
  },
  {
   "cell_type": "code",
   "execution_count": null,
   "metadata": {
    "collapsed": true
   },
   "outputs": [],
   "source": []
  },
  {
   "cell_type": "code",
   "execution_count": null,
   "metadata": {
    "collapsed": true
   },
   "outputs": [],
   "source": []
  },
  {
   "cell_type": "code",
   "execution_count": null,
   "metadata": {
    "collapsed": true
   },
   "outputs": [],
   "source": []
  },
  {
   "cell_type": "code",
   "execution_count": null,
   "metadata": {
    "collapsed": true
   },
   "outputs": [],
   "source": []
  }
 ],
 "metadata": {
  "kernelspec": {
   "display_name": "Python 3",
   "language": "python",
   "name": "python3"
  },
  "language_info": {
   "codemirror_mode": {
    "name": "ipython",
    "version": 3
   },
   "file_extension": ".py",
   "mimetype": "text/x-python",
   "name": "python",
   "nbconvert_exporter": "python",
   "pygments_lexer": "ipython3",
   "version": "3.6.3"
  }
 },
 "nbformat": 4,
 "nbformat_minor": 2
}
